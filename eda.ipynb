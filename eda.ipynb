{
 "cells": [
  {
   "cell_type": "code",
   "execution_count": 1,
   "metadata": {},
   "outputs": [],
   "source": [
    "import os\n",
    "import pandas as pd \n",
    "import numpy as np\n",
    "import json"
   ]
  },
  {
   "cell_type": "code",
   "execution_count": 2,
   "metadata": {},
   "outputs": [],
   "source": [
    "folder = \"/mnt/disk1/ducntm/BenchmarkTTA/save_deyo/coloredMNIST/origin/spurious/5\""
   ]
  },
  {
   "cell_type": "code",
   "execution_count": 3,
   "metadata": {},
   "outputs": [],
   "source": [
    "full_filess = os.listdir(folder)"
   ]
  },
  {
   "cell_type": "code",
   "execution_count": null,
   "metadata": {},
   "outputs": [],
   "source": [
    "ent_threshold = "
   ]
  },
  {
   "cell_type": "code",
   "execution_count": 4,
   "metadata": {},
   "outputs": [
    {
     "name": "stdout",
     "output_type": "stream",
     "text": [
      "    predictions  labels  entropys     plpds\n",
      "0             0       1  0.649038  0.046775\n",
      "1             0       0  0.023044  0.001342\n",
      "2             1       1  0.690708  0.041635\n",
      "3             0       0  0.338963 -0.063012\n",
      "4             0       0  0.000032  0.945240\n",
      "..          ...     ...       ...       ...\n",
      "59            0       0  0.000016  0.659043\n",
      "60            0       1  0.139766  0.876168\n",
      "61            0       1  0.263274 -0.056863\n",
      "62            1       1  0.501088  0.058642\n",
      "63            1       1  0.001652  0.999423\n",
      "\n",
      "[64 rows x 4 columns]\n"
     ]
    }
   ],
   "source": [
    "for path in full_filess:\n",
    "    full_path = os.path.join(folder, path)\n",
    "    df = pd.read_csv(full_path)\n",
    "    print(df)\n",
    "    break"
   ]
  },
  {
   "cell_type": "code",
   "execution_count": null,
   "metadata": {},
   "outputs": [],
   "source": []
  }
 ],
 "metadata": {
  "kernelspec": {
   "display_name": "Benchmark_TTA",
   "language": "python",
   "name": "python3"
  },
  "language_info": {
   "codemirror_mode": {
    "name": "ipython",
    "version": 3
   },
   "file_extension": ".py",
   "mimetype": "text/x-python",
   "name": "python",
   "nbconvert_exporter": "python",
   "pygments_lexer": "ipython3",
   "version": "3.8.13"
  }
 },
 "nbformat": 4,
 "nbformat_minor": 2
}
