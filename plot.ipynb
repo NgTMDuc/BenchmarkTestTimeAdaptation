{
 "cells": [
  {
   "cell_type": "code",
   "execution_count": null,
   "metadata": {
    "vscode": {
     "languageId": "plaintext"
    }
   },
   "outputs": [],
   "source": [
    "library(ggplot2)\n",
    "library(tidyr)\n",
    "\n",
    "# Data\n",
    "data <- data.frame(\n",
    "  Category = c(\"ImageNet-C\", \"C-MNIST\", \"WaterB\", \"PACS\", \"O-Home\"),\n",
    "  Green = c(38, 10, 13, 15, 19),\n",
    "  Red = c(20, 8, 9, 13, 11),\n",
    "  Gray = c(52, 82, 78, 72, 70)  \n",
    ")\n",
    "\n",
    "# Convert to long format including Gray\n",
    "data_long <- pivot_longer(data, cols = c(Green, Red, Gray), names_to = \"Type\", values_to = \"Count\")\n",
    "\n",
    "# **Set the factor levels to control stacking order (bottom to top)**\n",
    "data_long$Type <- factor(data_long$Type, levels = c( \"Gray\" , \"Red\", \"Green\"))  \n",
    "\n",
    "data_long$Category <- factor(data_long$Category, levels = c(\"ImageNet-C\", \"C-MNIST\", \"WaterB\", \"PACS\", \"O-Home\"))\n",
    "\n",
    "# Plot stacked bar chart with Gray on top\n",
    "ggplot(data_long, aes(x = Category, y = Count, fill = Type)) +\n",
    "  geom_bar(stat = \"identity\", position = \"stack\", width = 0.4) +\n",
    "  scale_fill_manual(values = c(\"Green\" = \"green\", \"Red\" = \"red\", \"Gray\" = \"gray\"),\n",
    "                    labels = c(\"Green\" = \"Correct prediction\", \n",
    "                               \"Red\" = \"Incorrect prediction\", \n",
    "                               \"Gray\" = \"Samples not used\")) +\n",
    "  labs(title = \"Percentage of Correct, Incorrect, and Uncertain Predictions\", \n",
    "       y = \"Precentage (%)\", x = \"\") +\n",
    "  theme_minimal(base_size = 12) +\n",
    "  theme(\n",
    "    plot.title = element_text(hjust = 0.5, face = \"bold\"),\n",
    "    axis.text.x = element_text(angle = 45, hjust = 1, size = 16),\n",
    "    axis.title.y = element_text(size = 18, face = \"bold\"),\n",
    "    legend.text = element_text(size = 14, face = \"bold\"),\n",
    "    legend.title = element_text(size = 16, face = \"bold\")\n",
    "  )\n"
   ]
  },
  {
   "cell_type": "code",
   "execution_count": null,
   "metadata": {
    "vscode": {
     "languageId": "plaintext"
    }
   },
   "outputs": [],
   "source": []
  }
 ],
 "metadata": {
  "language_info": {
   "name": "python"
  }
 },
 "nbformat": 4,
 "nbformat_minor": 2
}
